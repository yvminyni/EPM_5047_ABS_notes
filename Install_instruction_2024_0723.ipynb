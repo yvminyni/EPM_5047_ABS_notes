{
 "cells": [
  {
   "cell_type": "markdown",
   "id": "43b3a9c4-9543-4fda-8a76-1d86e79e8057",
   "metadata": {},
   "source": [
    "<img src=\"https://raw.githubusercontent.com/pymc-devs/brand/main/pymc/pymc_logos/PyMC_banner.svg\" width=\"350\">"
   ]
  },
  {
   "cell_type": "markdown",
   "id": "483ea1c4",
   "metadata": {},
   "source": [
    "#### [$\\text{Home — PyMC project website}$](https://www.pymc.io/welcome.html)"
   ]
  },
  {
   "cell_type": "markdown",
   "id": "902b3c08-56f0-48ce-919a-beca678037ca",
   "metadata": {},
   "source": [
    "# **PyMC(5.x.x) Installation instructions**\n",
    "\n",
    "Yi-Yun Lee Updated on July 22, 2024"
   ]
  },
  {
   "cell_type": "markdown",
   "id": "c02d0c0b-25da-41ca-a2a3-7a83de23cbe9",
   "metadata": {},
   "source": [
    "### 下載連結\n",
    "- **Anaconda** 下載:\n",
    "    https://www.anaconda.com/download/success \n",
    "\n",
    "- **bap3.yml** 套件版本環境檔下載:\n",
    "    https://github.com/aloctavodia/BAP3/tree/main\n"
   ]
  },
  {
   "cell_type": "markdown",
   "id": "e71ab619-fd5d-46fe-8e71-b8fb5089e24f",
   "metadata": {},
   "source": [
    "### Anaconda Prompt (anaconda3)裡執行:"
   ]
  },
  {
   "cell_type": "markdown",
   "id": "2dd9cdf9",
   "metadata": {},
   "source": [
    "<img src=\"https://github.com/yvminyni/EPM_7010_ABS_notes/blob/main/ABS_picture/anaconda_prompt.jpg?raw=true\" width=\"550\">"
   ]
  },
  {
   "cell_type": "markdown",
   "id": "6acf366f-2dba-4628-964e-4455c5ced829",
   "metadata": {},
   "source": [
    "#### Step 1. 確認好下載來源和設定:"
   ]
  },
  {
   "cell_type": "markdown",
   "id": "d00d0537",
   "metadata": {},
   "source": [
    "```conda config --set channel_priority strict```"
   ]
  },
  {
   "cell_type": "markdown",
   "id": "9a6af392",
   "metadata": {},
   "source": [
    "```conda config --show-sources```"
   ]
  },
  {
   "cell_type": "markdown",
   "id": "ee0e531c-7884-454f-9c59-0faa575753a4",
   "metadata": {},
   "source": [
    "$\\uparrow$看目前有哪些下載來源sources"
   ]
  },
  {
   "cell_type": "markdown",
   "id": "4a26ebd7",
   "metadata": {},
   "source": [
    "#### Step 2. 以讀取.yml環境檔的方式，下載對應的套件版本去建立環境:"
   ]
  },
  {
   "cell_type": "markdown",
   "id": "568329a1",
   "metadata": {},
   "source": [
    "```conda env create --file C:\\Users\\user\\Desktop\\bap3.yml --name pymc_env```"
   ]
  },
  {
   "cell_type": "markdown",
   "id": "4fb7365d",
   "metadata": {},
   "source": [
    "$\\uparrow$需要將更改 `C:\\Users\\user\\Desktop\\bap3.yml` 為自己電腦上 <font color=#4682b4>bap3.yml</font> 檔案的位置。\n",
    "\n",
    "讀取 <font color=#4682b4>bap3.yml</font> 環境檔後，依照環境檔內容下載對應的套件和版本，建立名為<font color=#228b22>pymc_env</font>的新環境。\n"
   ]
  },
  {
   "cell_type": "markdown",
   "id": "a8c1d451",
   "metadata": {},
   "source": [
    " "
   ]
  },
  {
   "cell_type": "markdown",
   "id": "cfd93a7b",
   "metadata": {},
   "source": [
    "#### Step 3. 啟動虛擬環境，在 <font color=#228b22>pymc_env</font> 環境下執行指令:"
   ]
  },
  {
   "cell_type": "markdown",
   "id": "28c8b253",
   "metadata": {},
   "source": [
    "```conda activate pymc_env```"
   ]
  },
  {
   "cell_type": "markdown",
   "id": "a45f276a",
   "metadata": {},
   "source": [
    "$\\uparrow$啟動虛擬環境<font color=#228b22>pymc_env</font> "
   ]
  },
  {
   "cell_type": "markdown",
   "id": "2239802b",
   "metadata": {},
   "source": [
    "```conda config --set channel_priority flexible```"
   ]
  },
  {
   "cell_type": "markdown",
   "id": "7e076973",
   "metadata": {},
   "source": [
    "```conda install “arviz==0.15.1” “numba==0.59.0”```"
   ]
  },
  {
   "cell_type": "markdown",
   "id": "6fadfaf2",
   "metadata": {},
   "source": [
    "$\\uparrow$重新下載版本為 0.15.1 的 arviz 套件，以及版本為 0.59.0 的 numba 套件。\n",
    "\n",
    "當這裡出現<font color=#dc143c>\\*Error</font>或無法執行的<font color=#dc143c>\\*Warning</font>，可能是因為無法從來源(source)找到對應版本的套件。 \\*請參考以下<font color=#dc143c>**\\*附註**</font>解決方法。"
   ]
  },
  {
   "cell_type": "markdown",
   "id": "880c4ed0",
   "metadata": {},
   "source": [
    "```ipython kernel install --user --name=pymc_env```"
   ]
  },
  {
   "cell_type": "markdown",
   "id": "11ba141e",
   "metadata": {},
   "source": [
    "在Jupyter Notebook裡安裝虛擬環境<font color=#228b22>pymc_env</font>，新增kernel。 "
   ]
  },
  {
   "cell_type": "markdown",
   "id": "6bd5da6c",
   "metadata": {},
   "source": [
    "```pip install watermark```"
   ]
  },
  {
   "cell_type": "markdown",
   "id": "3eebd830",
   "metadata": {},
   "source": [
    "$\\uparrow$下載 watermark 套件"
   ]
  },
  {
   "cell_type": "markdown",
   "id": "db3ea1cc",
   "metadata": {},
   "source": [
    " "
   ]
  },
  {
   "cell_type": "markdown",
   "id": "51ca4eee",
   "metadata": {},
   "source": [
    "#### Step 4. 開啟 Jupyter Notebook"
   ]
  },
  {
   "cell_type": "markdown",
   "id": "40518668",
   "metadata": {},
   "source": [
    "```Jupyter Notebook```"
   ]
  },
  {
   "cell_type": "markdown",
   "id": "4fe67ecb",
   "metadata": {},
   "source": [
    "#### Step 5. 離開虛擬環境"
   ]
  },
  {
   "cell_type": "markdown",
   "id": "40cc7069",
   "metadata": {},
   "source": [
    "```conda deactivate```"
   ]
  },
  {
   "cell_type": "markdown",
   "id": "c60d2f4c",
   "metadata": {},
   "source": [
    " "
   ]
  },
  {
   "cell_type": "markdown",
   "id": "5c9cbcff",
   "metadata": {},
   "source": [
    "---\n",
    "### <font color=#dc143c>\\*附註:</font>\n",
    "\n",
    "1. 在以下步驟出現Error或無法執行的Warning時，\n",
    "    \n",
    "    \n",
    "    ```conda config --set channel_priority flexible```\n",
    "    \n",
    "    ```conda install “arviz==0.15.1” “numba==0.59.0”```\n",
    "    \n",
    "    ```ipython kernel install --user --name=pymc_env```\n",
    "    \n",
    "    \n",
    "    可以嘗試替代的指令進行安裝:\n",
    "    \n",
    "    ```pip install arviz==0.15.1 ```\n",
    "    \n",
    "    ```pip install numba==0.15.1```\n",
    "    \n",
    "    ```conda install -y ipykernel```\n",
    "    \n",
    "    ```python -m ipykernel install --user --name=pymc_env```\n",
    "    \n",
    "\n",
    "---\n",
    "\n",
    "\n",
    "\n",
    "2. 如果在 notebook 網頁裡 Select Kernel 時找不到 <font color=#228b22>pymc_env</font> 環境:\n",
    "\n",
    "   1.) 先關掉 jupyter notebook 網頁，再關掉 Anaconda Prompt 的視窗。\n",
    "    \n",
    "   2.) 重新開啟 Anaconda Prompt，執行以下指令啟動環境，重新安裝 ipykernel，建立<font color=#228b22>pymc_env</font> kernel 於 jupyter notebook 中。\n",
    "    \n",
    "    ```conda install -y ipykernel```\n",
    "    \n",
    "    ```python -m ipykernel install --user --name=pymc_env```\n",
    "\n",
    "---\n",
    "---"
   ]
  },
  {
   "cell_type": "markdown",
   "id": "0bb47a1a",
   "metadata": {},
   "source": [
    "### Or…Try it on Google Colab?\n",
    "https://colab.research.google.com/drive/1Mhs_c9DBNYwtHE2cjfzd92YCnBSCgWP-?usp=sharing "
   ]
  },
  {
   "cell_type": "markdown",
   "id": "aa09b757",
   "metadata": {},
   "source": [
    " ---\n",
    " ---"
   ]
  },
  {
   "cell_type": "markdown",
   "id": "1f93c38d",
   "metadata": {},
   "source": [
    "## Reference:\n",
    "\n",
    "額外補充:\n",
    "\n",
    "- Jupyter Notebook 完整介面說明\n",
    "\n",
    "https://medium.com/ai-for-k12/jupyter-notebook-%E5%AE%8C%E6%95%B4%E4%BB%8B%E7%B4%B9-%E5%AE%89%E8%A3%9D%E5%8F%8A%E4%BD%BF%E7%94%A8%E8%AA%AA%E6%98%8E-846b5432f044\n",
    "\n",
    "\n",
    "- Use virtual environments in Jupyter Notebooks in three easy steps. (Rami Albatal, 2020)\n",
    "\n",
    "https://medium.com/@ramibatal/virtual-environments-and-jupyter-notebooks-in-three-easy-steps-55278ba5f47c\n",
    "\n",
    "參考資料:\n",
    "\n",
    "- Bayesian Modeling and Probabilistic Programming in Python\n",
    "\n",
    "https://github.com/pymc-devs/pymc\n",
    "\n",
    "- Bayesian Analysis with Python (third edition)\n",
    "\n",
    "https://github.com/aloctavodia/BAP3/tree/main\n",
    "\n",
    "Martin Osvaldo A, Bayesian Analysis with Python. Packt Publishing. 2024. ISBN 978-1-80512-716-1\n"
   ]
  },
  {
   "cell_type": "markdown",
   "id": "7f449655",
   "metadata": {},
   "source": [
    " "
   ]
  }
 ],
 "metadata": {
  "kernelspec": {
   "display_name": "Python 3 (ipykernel)",
   "language": "python",
   "name": "python3"
  },
  "language_info": {
   "codemirror_mode": {
    "name": "ipython",
    "version": 3
   },
   "file_extension": ".py",
   "mimetype": "text/x-python",
   "name": "python",
   "nbconvert_exporter": "python",
   "pygments_lexer": "ipython3",
   "version": "3.8.0"
  }
 },
 "nbformat": 4,
 "nbformat_minor": 5
}
